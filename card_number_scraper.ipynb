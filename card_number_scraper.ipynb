{
 "cells": [
  {
   "cell_type": "markdown",
   "metadata": {},
   "source": [
    "# Card Number Scraping"
   ]
  },
  {
   "cell_type": "markdown",
   "metadata": {},
   "source": [
    "Now that we have the link for each deck list, we need to grab the cards in each deck list.  Although seperated into main, side, and extra deck, the cards are all held by anchor tags with the class \"ygodeckcard\""
   ]
  },
  {
   "cell_type": "code",
   "execution_count": null,
   "metadata": {},
   "outputs": [],
   "source": [
    "from selenium import webdriver\n",
    "from selenium.webdriver.common.by import By\n",
    "from selenium.webdriver.support.ui import WebDriverWait\n",
    "from selenium.webdriver.support import expected_conditions as EC\n",
    "import random\n",
    "import time"
   ]
  },
  {
   "cell_type": "code",
   "execution_count": null,
   "metadata": {},
   "outputs": [],
   "source": [
    "driver = webdriver.Chrome()\n",
    "driver.get('https://ygoprodeck.com/deck/salamangreat-461825')\n",
    "\n",
    "try:\n",
    "    CARD_NUMBER_TARGET_CLASS = 'ygodeckcard'\n",
    "\n",
    "    #need to wait until the page loads the divs containing the links\n",
    "    elements = WebDriverWait(driver, 10).until(\n",
    "        EC.presence_of_all_elements_located((By.CLASS_NAME, CARD_NUMBER_TARGET_CLASS))\n",
    "    )\n",
    "\n",
    "    # Once the content is loaded, you can extract it\n",
    "    for element in elements:\n",
    "        #anchor = element.find_element(By.TAG_NAME, 'a')\n",
    "        href = element.get_attribute('href')\n",
    "        print('CARD_ID:', href.split('=')[-1].strip())\n",
    "    print('found ', len(elements), ' cards')\n",
    "except:\n",
    "    # Close the WebDriver instance\n",
    "    driver.quit()\n"
   ]
  }
 ],
 "metadata": {
  "kernelspec": {
   "display_name": "Python 3",
   "language": "python",
   "name": "python3"
  },
  "language_info": {
   "codemirror_mode": {
    "name": "ipython",
    "version": 3
   },
   "file_extension": ".py",
   "mimetype": "text/x-python",
   "name": "python",
   "nbconvert_exporter": "python",
   "pygments_lexer": "ipython3",
   "version": "3.12.2"
  }
 },
 "nbformat": 4,
 "nbformat_minor": 2
}
