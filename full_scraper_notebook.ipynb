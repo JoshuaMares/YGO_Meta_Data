{
 "cells": [
  {
   "cell_type": "markdown",
   "metadata": {},
   "source": [
    "# Grabbing all meta cards, decklists, and dates"
   ]
  },
  {
   "cell_type": "code",
   "execution_count": null,
   "metadata": {},
   "outputs": [],
   "source": [
    "from selenium import webdriver\n",
    "from selenium.webdriver.common.by import By\n",
    "from selenium.webdriver.support.ui import WebDriverWait\n",
    "from selenium.common.exceptions import TimeoutException\n",
    "from selenium.webdriver.support import expected_conditions as EC\n",
    "import random\n",
    "import time\n",
    "from datetime import date, datetime, timedelta"
   ]
  },
  {
   "cell_type": "code",
   "execution_count": null,
   "metadata": {},
   "outputs": [],
   "source": [
    "current_date = date.today()\n",
    "deck_link_list = []\n",
    "driver = webdriver.Chrome()\n",
    "for y in range(2019, current_date.year + 1):\n",
    "    for m in range(1, 13):\n",
    "        dfrom = datetime(y, m, 1).strftime('%Y-%m-%d')\n",
    "        dto   = datetime(y, m, 1).strftime('%Y-%m-%d') if m == 12 else (datetime(y, m + 1, 1) + timedelta(days=-1)).strftime('%Y-%m-%d')\n",
    "        print(f'from {dfrom} to {dto}')\n",
    "\n",
    "        driver.get(f'https://ygoprodeck.com/deck-search/?&_sft_category=tournament%20meta%20decks&sort=Date&from={dfrom}&to={dto}&offset=0')\n",
    "\n",
    "        try:\n",
    "            DECK_LINK_TARGET_CLASS = 'deck_article-card-container'\n",
    "            RELATIVE_DATE_CLASS = \"deck_article-card-stats text-left d-block\" #info class\n",
    "            NEXT_PAGE_TARGET_CLASS = 'prevDeck' #button for next page\n",
    "            DISABLED_CLASS = 'disabled'\n",
    "            i = 0\n",
    "            while(1):\n",
    "                print('PAGE ', i)\n",
    "\n",
    "                #need to wait until the page loads the divs containing the links\n",
    "                elements = WebDriverWait(driver, 5).until(\n",
    "                    EC.presence_of_all_elements_located((By.CLASS_NAME, DECK_LINK_TARGET_CLASS))\n",
    "                )\n",
    "\n",
    "                # Once the content is loaded, you can extract it\n",
    "                for element in elements:\n",
    "                    anchor = element.find_element(By.TAG_NAME, 'a')\n",
    "                    href = anchor.get_attribute('href')\n",
    "                    print(f'{dfrom}\\t{href}')\n",
    "                    deck_link_list.append((dfrom, href))\n",
    "                \n",
    "                #wait for prev button to load\n",
    "                next_button = WebDriverWait(driver, 5).until(\n",
    "                    EC.presence_of_element_located((By.CLASS_NAME, NEXT_PAGE_TARGET_CLASS))\n",
    "                )\n",
    "\n",
    "                #click prev button if its not disabled\n",
    "                next_button_classes = next_button.get_attribute('class').split()\n",
    "                if DISABLED_CLASS in next_button_classes:\n",
    "                    print('REACHED LAST PAGE, EXITING LOOP')\n",
    "                    break\n",
    "                else:\n",
    "                    time.sleep(random.randint(1, 2))\n",
    "                    next_button.click()\n",
    "                \n",
    "                i+=1\n",
    "        except TimeoutException as exception:\n",
    "            print('timeout exception')\n",
    "            continue\n",
    "        except:\n",
    "            print('exception')\n",
    "\n",
    "driver.quit()"
   ]
  },
  {
   "cell_type": "code",
   "execution_count": null,
   "metadata": {},
   "outputs": [],
   "source": [
    "print(len(deck_link_list))"
   ]
  },
  {
   "cell_type": "code",
   "execution_count": null,
   "metadata": {},
   "outputs": [],
   "source": [
    "import csv"
   ]
  },
  {
   "cell_type": "code",
   "execution_count": null,
   "metadata": {},
   "outputs": [],
   "source": [
    "with open('deck_links.csv', 'w', newline='') as new_file:\n",
    "    csv_writer = csv.writer(new_file, delimiter=',')\n",
    "    csv_writer.writerows(deck_link_list)"
   ]
  },
  {
   "cell_type": "code",
   "execution_count": null,
   "metadata": {},
   "outputs": [],
   "source": [
    "# TODO:\n",
    "# - go through each decklist, and pull all card ids\n",
    "# - if more accurate date available, pull it and replace the date \n",
    "# - pull api json \n",
    "# - for each card id, assign any decklist ids it was present in along with the date of the tourney"
   ]
  }
 ],
 "metadata": {
  "kernelspec": {
   "display_name": "Python 3",
   "language": "python",
   "name": "python3"
  },
  "language_info": {
   "codemirror_mode": {
    "name": "ipython",
    "version": 3
   },
   "file_extension": ".py",
   "mimetype": "text/x-python",
   "name": "python",
   "nbconvert_exporter": "python",
   "pygments_lexer": "ipython3",
   "version": "3.12.2"
  }
 },
 "nbformat": 4,
 "nbformat_minor": 2
}
