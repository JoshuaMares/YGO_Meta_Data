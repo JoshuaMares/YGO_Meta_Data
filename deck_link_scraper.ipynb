{
 "cells": [
  {
   "cell_type": "markdown",
   "metadata": {},
   "source": [
    "# Beautiful Soup"
   ]
  },
  {
   "cell_type": "code",
   "execution_count": null,
   "metadata": {},
   "outputs": [],
   "source": [
    "from bs4 import BeautifulSoup\n",
    "import requests"
   ]
  },
  {
   "cell_type": "markdown",
   "metadata": {},
   "source": [
    "We want to grab the href link within the anchor tag of the \"deck_article-card-container\""
   ]
  },
  {
   "cell_type": "code",
   "execution_count": null,
   "metadata": {},
   "outputs": [],
   "source": [
    "page_to_scrape = requests.get('https://ygoprodeck.com/deck-search/?&_sft_category=tournament%20meta%20decks&offset=0')\n",
    "print(page_to_scrape)\n",
    "soup = BeautifulSoup(page_to_scrape.text, 'html.parser')\n",
    "print(soup)\n",
    "links = soup.findAll('a', class_='deck_article-card-container')\n",
    "for link in links:\n",
    "    href = link.get('href')\n",
    "    if href:\n",
    "        print(href)"
   ]
  },
  {
   "cell_type": "markdown",
   "metadata": {},
   "source": [
    "Unfortunately that class is loaded dynamically within the div with classes \"deck-layout-flex grid-of-decks justify-content-center\"  \n",
    "BeautifulSoup can only handle static html so we have to use selenium to pull this info"
   ]
  },
  {
   "cell_type": "markdown",
   "metadata": {},
   "source": [
    "# Selenium"
   ]
  },
  {
   "cell_type": "code",
   "execution_count": null,
   "metadata": {},
   "outputs": [],
   "source": [
    "from selenium import webdriver\n",
    "from selenium.webdriver.common.by import By\n",
    "from selenium.webdriver.support.ui import WebDriverWait\n",
    "from selenium.webdriver.support import expected_conditions as EC\n",
    "import random\n",
    "import time"
   ]
  },
  {
   "cell_type": "code",
   "execution_count": null,
   "metadata": {},
   "outputs": [],
   "source": [
    "driver = webdriver.Chrome()\n",
    "driver.get('https://ygoprodeck.com/deck-search/?&_sft_category=tournament%20meta%20decks&offset=0')\n",
    "\n",
    "print(\"deck link,\\t\\t\\tdate published\")\n",
    "\n",
    "try:\n",
    "    TARGET_CLASS = 'deck_article-card-container'\n",
    "    RELATIVE_DATE_CLASS = \"deck_article-card-stats text-left d-block\" #info class\n",
    "    #need to wait until the page loads the divs containing the links\n",
    "    elements = WebDriverWait(driver, 10).until(\n",
    "        EC.presence_of_all_elements_located((By.CLASS_NAME, TARGET_CLASS))\n",
    "    )\n",
    "\n",
    "    # Once the content is loaded, you can extract it\n",
    "    for element in elements:\n",
    "        anchor = element.find_element(By.TAG_NAME, 'a')\n",
    "        href = anchor.get_attribute('href')\n",
    "        info = element.find_elements(By.TAG_NAME, 'span')\n",
    "        #should give us three span tags, we are interested in the text within the second one\n",
    "        relative_date = info[1].text\n",
    "        print(href, '\\t\\t\\t', relative_date)\n",
    "finally:\n",
    "    # Close the WebDriver instance\n",
    "    driver.quit()\n"
   ]
  },
  {
   "cell_type": "markdown",
   "metadata": {},
   "source": [
    "# Grabbing the Next Page"
   ]
  },
  {
   "cell_type": "code",
   "execution_count": null,
   "metadata": {},
   "outputs": [],
   "source": [
    "driver = webdriver.Chrome()\n",
    "driver.get('https://ygoprodeck.com/deck-search/?&_sft_category=tournament%20meta%20decks&tournament=European%20Championships&offset=0')\n",
    "\n",
    "try:\n",
    "    DECK_LINK_TARGET_CLASS = 'deck_article-card-container'\n",
    "    RELATIVE_DATE_CLASS = \"deck_article-card-stats text-left d-block\" #info class\n",
    "    NEXT_PAGE_TARGET_CLASS = 'prevDeck' #button for next page\n",
    "    DISABLED_CLASS = 'disabled'\n",
    "    i = 0\n",
    "    while(i < 5):\n",
    "        print('PAGE ', i)\n",
    "\n",
    "        #need to wait until the page loads the divs containing the links\n",
    "        elements = WebDriverWait(driver, 10).until(\n",
    "            EC.presence_of_all_elements_located((By.CLASS_NAME, DECK_LINK_TARGET_CLASS))\n",
    "        )\n",
    "\n",
    "        # Once the content is loaded, you can extract it\n",
    "        for element in elements:\n",
    "            anchor = element.find_element(By.TAG_NAME, 'a')\n",
    "            href = anchor.get_attribute('href')\n",
    "            info = element.find_elements(By.TAG_NAME, 'span')\n",
    "            if len(info) != 3:\n",
    "                relative_date = 'NA'\n",
    "            else:\n",
    "                relative_date = info[1].text\n",
    "            print(href, '\\t\\t\\t', relative_date)\n",
    "        \n",
    "        next_button = WebDriverWait(driver, 10).until(\n",
    "            EC.presence_of_element_located((By.CLASS_NAME, NEXT_PAGE_TARGET_CLASS))\n",
    "        )\n",
    "\n",
    "        next_button_classes = next_button.get_attribute('class').split()\n",
    "        if DISABLED_CLASS in next_button_classes:\n",
    "            print('REACHED LAST PAGE, EXITING LOOP')\n",
    "            break\n",
    "        else:\n",
    "            time.sleep(random.randint(5, 10))\n",
    "            next_button.click()\n",
    "        \n",
    "        i+=1\n",
    "except:\n",
    "    print('exception')\n",
    "    # Close the WebDriver instance\n",
    "    driver.quit()\n"
   ]
  }
 ],
 "metadata": {
  "kernelspec": {
   "display_name": "Python 3",
   "language": "python",
   "name": "python3"
  },
  "language_info": {
   "codemirror_mode": {
    "name": "ipython",
    "version": 3
   },
   "file_extension": ".py",
   "mimetype": "text/x-python",
   "name": "python",
   "nbconvert_exporter": "python",
   "pygments_lexer": "ipython3",
   "version": "3.12.2"
  }
 },
 "nbformat": 4,
 "nbformat_minor": 2
}
